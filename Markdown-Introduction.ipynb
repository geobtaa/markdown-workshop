{
 "cells": [
  {
   "cell_type": "markdown",
   "id": "037d0318",
   "metadata": {
    "slideshow": {
     "slide_type": "slide"
    }
   },
   "source": [
    "# Markdown Workshop"
   ]
  },
  {
   "cell_type": "markdown",
   "id": "5018973b",
   "metadata": {
    "slideshow": {
     "slide_type": "slide"
    }
   },
   "source": [
    "## What is Markdown?\n",
    "\n",
    "Markdown is a lightweight and easy-to-use markup language designed to format plain text documents. It was created in 2004 by John Gruber as a way to write formatted content for the web without having to use HTML or other more complex markup languages. Markdown is widely used for formatting plain text documents and is especially popular among developers, writers, and bloggers for its simplicity and versatility.\n",
    "\n",
    "With Markdown, you can format text by using simple syntax such as headers, lists, links, and emphasis. You can also add images, code blocks, tables, and other elements to your document using Markdown. The syntax is designed to be straightforward and intuitive, so even if you have no prior experience with markup languages, you can start using Markdown with ease.\n",
    "\n",
    "Markdown documents are saved with the \".md\" file extension and can be easily converted to HTML, PDF, and other formats for publishing on the web or printing. The simplicity and flexibility of Markdown have made it a popular choice for writing and formatting content, and it is supported by many platforms and applications, including GitHub, Reddit, and Jupyter Notebook."
   ]
  },
  {
   "cell_type": "markdown",
   "id": "e128e763",
   "metadata": {
    "slideshow": {
     "slide_type": "slide"
    }
   },
   "source": [
    "## Pros & Cons"
   ]
  },
  {
   "cell_type": "markdown",
   "id": "05444197",
   "metadata": {
    "slideshow": {
     "slide_type": "subslide"
    }
   },
   "source": [
    "## Pros of Markdown:\n",
    "\n",
    "1. Simplicity: Markdown is designed to be easy to read and write, making it a great choice for those who are new to markup languages or don't want to spend a lot of time learning complex syntax.\n",
    "2. Versatility: Markdown can be easily converted to HTML, PDF, and other formats, making it a versatile choice for writing and formatting content for the web or for print.\n",
    "3. Wide adoption: Markdown is widely used and supported by many platforms and applications, including GitHub, Reddit, Jupyter Notebook, and many others.\n",
    "4. Focus on content: Markdown allows you to focus on writing content, rather than formatting. With its simple syntax, you can quickly add structure to your text without having to worry about HTML tags or other complicated code."
   ]
  },
  {
   "cell_type": "markdown",
   "id": "b11bdc8b",
   "metadata": {
    "slideshow": {
     "slide_type": "subslide"
    }
   },
   "source": [
    "##  Cons of Markdown:\n",
    "    \n",
    "1. Limited functionality: Markdown is designed to be simple and easy to use, but as a result, it has limited functionality compared to other markup languages such as HTML. For example, it does not have support for some more advanced formatting options, like columns or advanced table formatting.\n",
    "2. Inconsistent syntax: Markdown is not a standardized language, and different implementations may have slightly different syntax. This can lead to confusion and compatibility issues when using Markdown on different platforms.\n",
    "3. Steep learning curve for some: While Markdown is designed to be simple, some users may still find its syntax confusing or difficult to understand, especially if they have never used a markup language before."
   ]
  }
 ],
 "metadata": {
  "celltoolbar": "Slideshow",
  "kernelspec": {
   "display_name": "Python 3 (ipykernel)",
   "language": "python",
   "name": "python3"
  },
  "language_info": {
   "codemirror_mode": {
    "name": "ipython",
    "version": 3
   },
   "file_extension": ".py",
   "mimetype": "text/x-python",
   "name": "python",
   "nbconvert_exporter": "python",
   "pygments_lexer": "ipython3",
   "version": "3.9.15"
  }
 },
 "nbformat": 4,
 "nbformat_minor": 5
}
