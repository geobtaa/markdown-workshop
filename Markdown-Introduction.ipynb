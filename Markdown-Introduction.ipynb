{
 "cells": [
  {
   "cell_type": "markdown",
   "id": "45faccd1",
   "metadata": {
    "slideshow": {
     "slide_type": "slide"
    }
   },
   "source": [
    "# Markdown Workshop\n",
    "\n",
    "BTAA-GIN"
   ]
  },
  {
   "cell_type": "markdown",
   "id": "6b7ac43a",
   "metadata": {
    "slideshow": {
     "slide_type": "slide"
    }
   },
   "source": [
    "## Why are we learning about Markdown?\n",
    "\n",
    "- a lightweight and easy-to-use language for text documents\n",
    "\n",
    "- most text editors support it\n",
    "\n",
    "- allows us to create and store standalone, non-proprietary documents\n",
    "\n",
    "- translates easily to other formats, such as HTML or PDF or EPUB"
   ]
  },
  {
   "cell_type": "markdown",
   "id": "3fa29d55",
   "metadata": {
    "slideshow": {
     "slide_type": "slide"
    }
   },
   "source": [
    "## No, really. Why do we need to know Markdown?"
   ]
  },
  {
   "cell_type": "markdown",
   "id": "c7020f5e",
   "metadata": {
    "slideshow": {
     "slide_type": "subslide"
    }
   },
   "source": [
    "The BTAA-GIN has created a wealth of useful resources: tutorials, research guides, and reports. Currently, these documents are hosted in Google Drive and findable through our project Google Sites website. Here are 3 problems with this platform:"
   ]
  },
  {
   "cell_type": "markdown",
   "id": "2c7d4fd6",
   "metadata": {
    "slideshow": {
     "slide_type": "fragment"
    }
   },
   "source": [
    "#### **Discoverability**\n",
    "\n",
    "The documents are not broadly discoverable unless someone is on our site - in which case they might not be looking for this kind of material."
   ]
  },
  {
   "cell_type": "markdown",
   "id": "f55e9ca3",
   "metadata": {
    "slideshow": {
     "slide_type": "fragment"
    }
   },
   "source": [
    "#### **Accessibility**\n",
    "\n",
    "These documents were created before the BTAA-GIN articulated and prioritized DEIA goals of accessibility. Our content should be updated to incorporate accessibility issues as much as possible. "
   ]
  },
  {
   "cell_type": "markdown",
   "id": "028c52ee",
   "metadata": {
    "slideshow": {
     "slide_type": "fragment"
    }
   },
   "source": [
    "#### **Persistence**\n",
    "\n",
    "Google Drive documents are generally owned by an individual. If that individual leaves their position, we need to work through a series of steps to make sure the content remains online. Additionally, it is a proprietary platform and we need an exit strategy in case we decide (or are forced) to stop using it."
   ]
  },
  {
   "cell_type": "markdown",
   "id": "e5cc220a",
   "metadata": {
    "slideshow": {
     "slide_type": "slide"
    }
   },
   "source": [
    "## What formats are best for addressing these problems?"
   ]
  },
  {
   "cell_type": "markdown",
   "id": "61b06004",
   "metadata": {
    "slideshow": {
     "slide_type": "subslide"
    }
   },
   "source": [
    "### Discoverability: HTML (it is easily understood by search engines)"
   ]
  },
  {
   "cell_type": "markdown",
   "id": "29ebf887",
   "metadata": {
    "slideshow": {
     "slide_type": "fragment"
    }
   },
   "source": [
    "> \"HTML is the foundation of the web and the most search engine friendly format.\" - W3C (World Wide Web Consortium)\n"
   ]
  },
  {
   "cell_type": "markdown",
   "id": "9bf06ecc",
   "metadata": {
    "slideshow": {
     "slide_type": "fragment"
    }
   },
   "source": [
    "> \"Search engines prefer HTML over other formats because it is the most accessible and structured format available.\" - University of California, Berkeley\n"
   ]
  },
  {
   "cell_type": "markdown",
   "id": "4c90aa1f",
   "metadata": {
    "slideshow": {
     "slide_type": "fragment"
    }
   },
   "source": [
    "> \"Using HTML is one of the best ways to make sure your website is optimized for search engines.\" - Moz (a leading SEO software provider)"
   ]
  },
  {
   "cell_type": "markdown",
   "id": "b0cae03e",
   "metadata": {
    "slideshow": {
     "slide_type": "subslide"
    }
   },
   "source": [
    "### Accessibility: HTML (the \"gold standard\" of web accessibility)"
   ]
  },
  {
   "cell_type": "markdown",
   "id": "bb314788",
   "metadata": {
    "slideshow": {
     "slide_type": "fragment"
    }
   },
   "source": [
    "> \"HTML is considered the gold standard of accessibility\"\n",
    "(University of Mississippi Digital Accessibility Solutions, https://accessibility.olemiss.edu/home/document-accessibility-for-the-web/)"
   ]
  },
  {
   "cell_type": "markdown",
   "id": "3331e363",
   "metadata": {
    "slideshow": {
     "slide_type": "fragment"
    }
   },
   "source": [
    "> \"HTML remains the most accessible format for creating content on the web.\" - WebAIM, an accessibility advocacy organization\n"
   ]
  },
  {
   "cell_type": "markdown",
   "id": "09b697a4",
   "metadata": {
    "slideshow": {
     "slide_type": "fragment"
    }
   },
   "source": [
    "> \"HTML is a superior format for creating accessible content for the web. Other formats, such as PDF, are often problematic because they don't support accessibility features natively.\" - The University of Minnesota's Accessible U website\n"
   ]
  },
  {
   "cell_type": "markdown",
   "id": "e6b5e8c4",
   "metadata": {
    "slideshow": {
     "slide_type": "subslide"
    }
   },
   "source": [
    "### Persistence: PDF/A, XML, or HTML (it depends)"
   ]
  },
  {
   "cell_type": "markdown",
   "id": "56a275ed",
   "metadata": {
    "slideshow": {
     "slide_type": "fragment"
    }
   },
   "source": [
    "> Library of Congress Recommended Format for Digital Text:\n",
    "    - Preferred: PDF/A (PDF with metadata) or XML (such as ePUB)\n",
    "    - Acceptable: HTML"
   ]
  },
  {
   "cell_type": "markdown",
   "id": "cebd979f",
   "metadata": {
    "slideshow": {
     "slide_type": "fragment"
    }
   },
   "source": [
    "**However, there is considerable debate over formats in the digital archiving community**"
   ]
  },
  {
   "cell_type": "markdown",
   "id": "65724f2b",
   "metadata": {
    "slideshow": {
     "slide_type": "subslide"
    }
   },
   "source": [
    "### PDF/A: \n",
    "\n",
    "- a \"universal digital container\" that preserves the visual layout and structure of documents\n",
    "- may not be accessible for people with disabilities without proper tagging\n",
    "- concerns around long-term preservation due to format complexity and dearth of free, open source tools"
   ]
  },
  {
   "cell_type": "markdown",
   "id": "7b7da530",
   "metadata": {
    "slideshow": {
     "slide_type": "subslide"
    }
   },
   "source": [
    "### XML:\n",
    "\n",
    "- flexible format for complex structured text\n",
    "- allows for the preservation of both visual layout and structure and metadata\n",
    "- a steep learning curve and may require specialized software for rendering and access"
   ]
  },
  {
   "cell_type": "markdown",
   "id": "8cc7a27b",
   "metadata": {
    "slideshow": {
     "slide_type": "subslide"
    }
   },
   "source": [
    " ### HTML: \n",
    "- basic format for relatively simple structured text\n",
    "- lacks the visual fidelity of PDF/A\n",
    "- very durable (invented in 1990!) and widespread (can use any text editor)"
   ]
  },
  {
   "cell_type": "markdown",
   "id": "f830fcbc",
   "metadata": {
    "slideshow": {
     "slide_type": "subslide"
    }
   },
   "source": [
    "*It is often recommended to use multiple formats in combination to ensure long-term accessibility and preservation.*"
   ]
  },
  {
   "cell_type": "markdown",
   "id": "e27c4dcd",
   "metadata": {
    "slideshow": {
     "slide_type": "slide"
    }
   },
   "source": [
    "## OK, so let's write HTML files for public docs and make backups as needed with PDF/A or XML! "
   ]
  },
  {
   "cell_type": "markdown",
   "id": "c7c81456",
   "metadata": {
    "slideshow": {
     "slide_type": "fragment"
    }
   },
   "source": [
    "Whoa, not so fast."
   ]
  },
  {
   "cell_type": "markdown",
   "id": "1ddbbfb0",
   "metadata": {
    "slideshow": {
     "slide_type": "fragment"
    }
   },
   "source": [
    "It is very **tedious to read and write raw HTML code** (ugh, so many slashes & brackets!) "
   ]
  },
  {
   "cell_type": "markdown",
   "id": "e7c09c80",
   "metadata": {
    "slideshow": {
     "slide_type": "slide"
    }
   },
   "source": [
    "## Why are we learning about Markdown (again)?\n",
    "\n",
    "- a lightweight and easy-to-use language for text documents\n",
    "\n",
    "- most text editors support it\n",
    "\n",
    "- allows us to create and store standalone, non-proprietary documents\n",
    "\n",
    "- **translates easily to other formats, such as HTML or PDF or EPUB**"
   ]
  },
  {
   "cell_type": "markdown",
   "id": "3a88a226",
   "metadata": {
    "slideshow": {
     "slide_type": "slide"
    }
   },
   "source": [
    "## Comparing Markdown and HTML syntax"
   ]
  },
  {
   "cell_type": "markdown",
   "id": "3088dbc6",
   "metadata": {
    "slideshow": {
     "slide_type": "subslide"
    }
   },
   "source": [
    "### Here's an example of a short paragraph in HTML"
   ]
  },
  {
   "cell_type": "markdown",
   "id": "4d11a676",
   "metadata": {
    "slideshow": {
     "slide_type": "fragment"
    }
   },
   "source": [
    "```\n",
    "<h1>A Short Paragraph</h1>\n",
    "\n",
    "<p>This is a short paragraph about the benefits of using Markdown.</p>\n",
    "\n",
    "<ul>\n",
    "  <li>It is easy to read and write</li>\n",
    "  <li>It is lightweight</li>\n",
    "  <li>It can be easily converted to HTML</li>\n",
    "</ul>\n",
    "\n",
    "<a href=\"https://en.wikipedia.org/wiki/Markdown\">Learn more about Markdown</a>\n",
    "\n",
    "```"
   ]
  },
  {
   "cell_type": "markdown",
   "id": "c3420f59",
   "metadata": {
    "slideshow": {
     "slide_type": "fragment"
    }
   },
   "source": [
    "### And here's the equivalent code in Markdown:"
   ]
  },
  {
   "cell_type": "markdown",
   "id": "54a6a5cf",
   "metadata": {
    "slideshow": {
     "slide_type": "fragment"
    }
   },
   "source": [
    "```\n",
    "# A Short Paragraph\n",
    "\n",
    "This is a short paragraph about the benefits of using Markdown.\n",
    "\n",
    "- It is easy to read and write\n",
    "- It is lightweight\n",
    "- It can be easily converted to HTML\n",
    "\n",
    "[Learn more about Markdown](https://en.wikipedia.org/wiki/Markdown)\n",
    "```"
   ]
  },
  {
   "cell_type": "markdown",
   "id": "34ccee40",
   "metadata": {
    "slideshow": {
     "slide_type": "subslide"
    }
   },
   "source": [
    "### Here's an example of a table in HTML:"
   ]
  },
  {
   "cell_type": "markdown",
   "id": "f4a6c147",
   "metadata": {
    "slideshow": {
     "slide_type": "fragment"
    }
   },
   "source": [
    "```\n",
    "<table>\n",
    "  <tr>\n",
    "    <th>Column 1</th>\n",
    "    <th>Column 2</th>\n",
    "    <th>Column 3</th>\n",
    "  </tr>\n",
    "  <tr>\n",
    "    <td>Row 1, Column 1</td>\n",
    "    <td>Row 1, Column 2</td>\n",
    "    <td>Row 1, Column 3</td>\n",
    "  </tr>\n",
    "  <tr>\n",
    "    <td>Row 2, Column 1</td>\n",
    "    <td>Row 2, Column 2</td>\n",
    "    <td>Row 2, Column 3</td>\n",
    "  </tr>\n",
    "  <tr>\n",
    "    <td>Row 3, Column 1</td>\n",
    "    <td>Row 3, Column 2</td>\n",
    "    <td>Row 3, Column 3</td>\n",
    "  </tr>\n",
    "</table>\n",
    "```"
   ]
  },
  {
   "cell_type": "markdown",
   "id": "da489772",
   "metadata": {
    "slideshow": {
     "slide_type": "fragment"
    }
   },
   "source": [
    "### And here's the equivalent code in Markdown:"
   ]
  },
  {
   "cell_type": "markdown",
   "id": "6fc719ed",
   "metadata": {
    "slideshow": {
     "slide_type": "fragment"
    }
   },
   "source": [
    "```\n",
    "| Column 1 | Column 2 | Column 3 |\n",
    "|----------|----------|----------|\n",
    "| Row 1, Column 1 | Row 1, Column 2 | Row 1, Column 3 |\n",
    "| Row 2, Column 1 | Row 2, Column 2 | Row 2, Column 3 |\n",
    "| Row 3, Column 1 | Row 3, Column 2 | Row 3, Column 3 |\n",
    "```\n"
   ]
  },
  {
   "cell_type": "markdown",
   "id": "47f016a2",
   "metadata": {
    "slideshow": {
     "slide_type": "slide"
    }
   },
   "source": [
    "### With Markdown, we can focus on writing content, rather than formatting. With its simple syntax, you can quickly add structure to your text without having to worry about HTML tags or other complicated code."
   ]
  },
  {
   "cell_type": "markdown",
   "id": "65989b7c",
   "metadata": {
    "slideshow": {
     "slide_type": "slide"
    }
   },
   "source": [
    "# Let's Learn Markdown!"
   ]
  },
  {
   "cell_type": "markdown",
   "id": "e9fb069b",
   "metadata": {
    "slideshow": {
     "slide_type": "slide"
    }
   },
   "source": [
    "## What's in a Markdown file?\n",
    "\n",
    "- text that can be formatted as headers, links, emphasis (bold & italics)\n",
    "- lists\n",
    "- images (embedded as links)\n",
    "- code blocks\n",
    "- tables\n",
    "- quotes"
   ]
  },
  {
   "cell_type": "markdown",
   "id": "c0e20caa",
   "metadata": {
    "slideshow": {
     "slide_type": "slide"
    }
   },
   "source": [
    "## Maybe you have already used Markdown\n",
    "\n",
    "- **GitHub**: a web-based hosting service for version control using git that supports Markdown for README files, issues, and pull requests.\n",
    "- **Jupyter Notebook**: an open-source web application that allows users to create and share documents that contain live code, equations, visualizations, and narrative text using Markdown.\n",
    "- **Reddit**: a social news and discussion website that supports Markdown in comments and posts.\n",
    "- **Slack**: a team collaboration platform that supports Markdown formatting in messages.\n",
    "- **WordPress**: a popular content management system that supports Markdown via plugins.\n",
    "- **Stack Overflow**: a question and answer community for programmers that allows Markdown formatting in posts.\n",
    "- **Trello**: a web-based project management application that supports Markdown formatting in cards and descriptions.\n",
    "- and many others that support adding content in Markdown"
   ]
  },
  {
   "cell_type": "markdown",
   "id": "81810bb6",
   "metadata": {
    "slideshow": {
     "slide_type": "slide"
    }
   },
   "source": [
    "# The Basics"
   ]
  },
  {
   "cell_type": "code",
   "execution_count": null,
   "id": "6cfacd4f",
   "metadata": {
    "slideshow": {
     "slide_type": "subslide"
    }
   },
   "outputs": [],
   "source": [
    "# Heading 1"
   ]
  },
  {
   "cell_type": "markdown",
   "id": "5ac703f2",
   "metadata": {
    "slideshow": {
     "slide_type": "fragment"
    }
   },
   "source": [
    "# Heading 1"
   ]
  },
  {
   "cell_type": "code",
   "execution_count": null,
   "id": "eb53ab3e",
   "metadata": {
    "slideshow": {
     "slide_type": "subslide"
    }
   },
   "outputs": [],
   "source": [
    "## Heading 2"
   ]
  },
  {
   "cell_type": "markdown",
   "id": "74dc09d8",
   "metadata": {
    "slideshow": {
     "slide_type": "fragment"
    }
   },
   "source": [
    "## Heading 2"
   ]
  },
  {
   "cell_type": "code",
   "execution_count": null,
   "id": "9160c790",
   "metadata": {
    "slideshow": {
     "slide_type": "subslide"
    }
   },
   "outputs": [],
   "source": [
    "### Heading 3"
   ]
  },
  {
   "cell_type": "markdown",
   "id": "d4735409",
   "metadata": {
    "slideshow": {
     "slide_type": "fragment"
    }
   },
   "source": [
    "### Heading 3"
   ]
  },
  {
   "cell_type": "code",
   "execution_count": null,
   "id": "0a7e6595",
   "metadata": {
    "slideshow": {
     "slide_type": "subslide"
    }
   },
   "outputs": [],
   "source": [
    "*italics*"
   ]
  },
  {
   "cell_type": "markdown",
   "id": "c7938b26",
   "metadata": {
    "slideshow": {
     "slide_type": "fragment"
    }
   },
   "source": [
    "*italics*"
   ]
  },
  {
   "cell_type": "code",
   "execution_count": null,
   "id": "f00d4f6a",
   "metadata": {
    "slideshow": {
     "slide_type": "subslide"
    }
   },
   "outputs": [],
   "source": [
    "**bold**"
   ]
  },
  {
   "cell_type": "markdown",
   "id": "48917a57",
   "metadata": {
    "slideshow": {
     "slide_type": "fragment"
    }
   },
   "source": [
    "**bold**"
   ]
  },
  {
   "cell_type": "code",
   "execution_count": null,
   "id": "dad371b1",
   "metadata": {
    "slideshow": {
     "slide_type": "subslide"
    }
   },
   "outputs": [],
   "source": [
    "```\n",
    "- unordered list\n",
    "- unordered list\n",
    "- unordered list\n",
    "```"
   ]
  },
  {
   "cell_type": "markdown",
   "id": "15ac95bb",
   "metadata": {
    "slideshow": {
     "slide_type": "fragment"
    }
   },
   "source": [
    "```\n",
    "- unordered list\n",
    "- unordered list\n",
    "- unordered list\n",
    "```"
   ]
  },
  {
   "cell_type": "code",
   "execution_count": null,
   "id": "7d166e4c",
   "metadata": {
    "slideshow": {
     "slide_type": "subslide"
    }
   },
   "outputs": [],
   "source": [
    "```\n",
    "1. ordered list\n",
    "2. ordered list\n",
    "3. ordered list\n",
    "```"
   ]
  },
  {
   "cell_type": "markdown",
   "id": "40d4a079",
   "metadata": {
    "slideshow": {
     "slide_type": "fragment"
    }
   },
   "source": [
    "```\n",
    "1. ordered list\n",
    "2. ordered list\n",
    "3. ordered list\n",
    "```"
   ]
  },
  {
   "cell_type": "code",
   "execution_count": null,
   "id": "8f29de01",
   "metadata": {
    "slideshow": {
     "slide_type": "subslide"
    }
   },
   "outputs": [],
   "source": [
    "> Blockquote"
   ]
  },
  {
   "cell_type": "markdown",
   "id": "1e823ba0",
   "metadata": {
    "slideshow": {
     "slide_type": "fragment"
    }
   },
   "source": [
    "> Blockquote"
   ]
  },
  {
   "cell_type": "code",
   "execution_count": null,
   "id": "fad5aee3",
   "metadata": {
    "slideshow": {
     "slide_type": "subslide"
    }
   },
   "outputs": [],
   "source": [
    "--- \n",
    "horizontal rule"
   ]
  },
  {
   "cell_type": "markdown",
   "id": "b97feaf3",
   "metadata": {
    "slideshow": {
     "slide_type": "fragment"
    }
   },
   "source": [
    "--- \n",
    "horizontal rule"
   ]
  },
  {
   "cell_type": "code",
   "execution_count": null,
   "id": "2c562877",
   "metadata": {
    "slideshow": {
     "slide_type": "subslide"
    }
   },
   "outputs": [],
   "source": [
    "``Inline code``"
   ]
  },
  {
   "cell_type": "markdown",
   "id": "f549d5ed",
   "metadata": {
    "slideshow": {
     "slide_type": "fragment"
    }
   },
   "source": [
    "``Inline code``"
   ]
  },
  {
   "cell_type": "code",
   "execution_count": null,
   "id": "047d9b4e",
   "metadata": {
    "slideshow": {
     "slide_type": "subslide"
    }
   },
   "outputs": [],
   "source": [
    "```\n",
    "code block\n",
    "print '3 backticks`\n",
    "```"
   ]
  },
  {
   "cell_type": "markdown",
   "id": "c3ec5fad",
   "metadata": {
    "slideshow": {
     "slide_type": "fragment"
    }
   },
   "source": [
    "```\n",
    "code block\n",
    "print '3 backticks'\n",
    "```"
   ]
  },
  {
   "cell_type": "code",
   "execution_count": null,
   "id": "f5145a85",
   "metadata": {
    "slideshow": {
     "slide_type": "subslide"
    }
   },
   "outputs": [],
   "source": [
    "```\n",
    "| Column 1 | Column 2 | Column 3 |\n",
    "|----------|----------|----------|\n",
    "| Row 1, Column 1 | Row 1, Column 2 | Row 1, Column 3 |\n",
    "| Row 2, Column 1 | Row 2, Column 2 | Row 2, Column 3 |\n",
    "| Row 3, Column 1 | Row 3, Column 2 | Row 3, Column 3 |\n",
    "```\n"
   ]
  },
  {
   "cell_type": "markdown",
   "id": "cbaa094e",
   "metadata": {
    "slideshow": {
     "slide_type": "fragment"
    }
   },
   "source": [
    "\n",
    "| Column 1 | Column 2 | Column 3 |\n",
    "|----------|----------|----------|\n",
    "| Row 1, Column 1 | Row 1, Column 2 | Row 1, Column 3 |\n",
    "| Row 2, Column 1 | Row 2, Column 2 | Row 2, Column 3 |\n",
    "| Row 3, Column 1 | Row 3, Column 2 | Row 3, Column 3 |\n"
   ]
  },
  {
   "cell_type": "code",
   "execution_count": null,
   "id": "64d77781",
   "metadata": {
    "slideshow": {
     "slide_type": "subslide"
    }
   },
   "outputs": [],
   "source": [
    "[Link](http://geo.btaa.org)"
   ]
  },
  {
   "cell_type": "markdown",
   "id": "3c9c8b4a",
   "metadata": {
    "slideshow": {
     "slide_type": "fragment"
    }
   },
   "source": [
    "[Link](http://geo.btaa.org)"
   ]
  },
  {
   "cell_type": "code",
   "execution_count": null,
   "id": "6191e45f",
   "metadata": {
    "slideshow": {
     "slide_type": "subslide"
    }
   },
   "outputs": [],
   "source": [
    "![Image](https://images.digital.library.illinois.edu/iiif/2/910a3e90-82d6-0134-1f08-0050569601ca-6/full/175,/0/default.jpg?download=true)"
   ]
  },
  {
   "cell_type": "markdown",
   "id": "9b725c00",
   "metadata": {
    "slideshow": {
     "slide_type": "fragment"
    }
   },
   "source": [
    "![Image](https://images.digital.library.illinois.edu/iiif/2/910a3e90-82d6-0134-1f08-0050569601ca-6/full/175,/0/default.jpg?download=true)"
   ]
  },
  {
   "cell_type": "markdown",
   "id": "569fceba",
   "metadata": {
    "slideshow": {
     "slide_type": "slide"
    }
   },
   "source": [
    "### That's pretty much everything - all the syntax you need to create tutorials, guides, and reports.\n",
    "\n",
    "Let's try this interactive tutorial next: [https://commonmark.org/help/tutorial/](https://commonmark.org/help/tutorial/)"
   ]
  },
  {
   "cell_type": "markdown",
   "id": "60f18769",
   "metadata": {
    "slideshow": {
     "slide_type": "slide"
    }
   },
   "source": [
    "# F.A.Q"
   ]
  },
  {
   "cell_type": "markdown",
   "id": "cbcdfd80",
   "metadata": {
    "slideshow": {
     "slide_type": "subslide"
    }
   },
   "source": [
    "## Why do some sites say to use \"-\" for bulleted lists while others say to use \"* \"?"
   ]
  },
  {
   "cell_type": "markdown",
   "id": "8fda625f",
   "metadata": {
    "slideshow": {
     "slide_type": "-"
    }
   },
   "source": [
    "You will likely come across various Markdown documentation sites that seem to have conflicting information on syntax. This is because there are several different \"flavors\" or variations of Markdown that have been developed over the years, each with its own unique features and syntax. However, most platforms seem to accept any version and interpret \"-\" the same as \"* \""
   ]
  },
  {
   "cell_type": "markdown",
   "id": "44677ed9",
   "metadata": {
    "slideshow": {
     "slide_type": "subslide"
    }
   },
   "source": [
    "## Markdown doesn't include certain features found in HTML. For example, how can I format images?"
   ]
  },
  {
   "cell_type": "markdown",
   "id": "5b3333e0",
   "metadata": {
    "slideshow": {
     "slide_type": "-"
    }
   },
   "source": [
    "You can always add straight HTML code in your Markdown file and include style elements, such as `float`, `border`, or `margin`."
   ]
  },
  {
   "cell_type": "markdown",
   "id": "dae84f3b",
   "metadata": {
    "slideshow": {
     "slide_type": "subslide"
    }
   },
   "source": [
    "## Can I embed images right into the Markdown file or do I always need to have them stored separately?"
   ]
  },
  {
   "cell_type": "markdown",
   "id": "a447ed33",
   "metadata": {},
   "source": [
    "Images need to be hosted online, usually in a folder next to the Markdown document. This may take more time that just pasting an image right into a document, such as Google Slides. On the other hand, this may ultimately make a document easier to update and maintain - if we overwrite a new image in a directly using the same, we do not need to edit the Markdown file."
   ]
  }
 ],
 "metadata": {
  "celltoolbar": "Slideshow",
  "kernelspec": {
   "display_name": "Python 3 (ipykernel)",
   "language": "python",
   "name": "python3"
  },
  "language_info": {
   "codemirror_mode": {
    "name": "ipython",
    "version": 3
   },
   "file_extension": ".py",
   "mimetype": "text/x-python",
   "name": "python",
   "nbconvert_exporter": "python",
   "pygments_lexer": "ipython3",
   "version": "3.9.15"
  }
 },
 "nbformat": 4,
 "nbformat_minor": 5
}
