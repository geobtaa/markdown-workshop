{
 "cells": [
  {
   "cell_type": "markdown",
   "id": "3cbff601",
   "metadata": {
    "slideshow": {
     "slide_type": "slide"
    }
   },
   "source": [
    "# Markdown Workshop"
   ]
  },
  {
   "cell_type": "markdown",
   "id": "73fd264d",
   "metadata": {
    "slideshow": {
     "slide_type": "slide"
    }
   },
   "source": [
    "## What is Markdown?\n",
    "\n",
    "- lightweight and easy-to-use markup language for text documents\n",
    "- created in 2004\n",
    "- a way to write formatted content for the web without having to use HTML or other more complex markup languages\n",
    "- popular among developers, writers, and bloggers"
   ]
  },
  {
   "cell_type": "markdown",
   "id": "faf283a4",
   "metadata": {
    "slideshow": {
     "slide_type": "slide"
    }
   },
   "source": [
    "## What's in a Markdown file?\n",
    "\n",
    "- text can be formatted as headers, lists, links, emphasis (bold & italics)\n",
    "- images\n",
    "- code blocks\n",
    "- tables\n",
    "- quotes"
   ]
  },
  {
   "cell_type": "markdown",
   "id": "29b5e1e9",
   "metadata": {
    "slideshow": {
     "slide_type": "slide"
    }
   },
   "source": [
    "## What platforms use Markdown?\n",
    "\n",
    "- **GitHub**: a web-based hosting service for version control using git that supports Markdown for README files, issues, and pull requests.\n",
    "- **Reddit**: a social news and discussion website that supports Markdown in comments and posts.\n",
    "- **Slack**: a team collaboration platform that supports Markdown formatting in messages.\n",
    "- **WordPress**: a popular content management system that supports Markdown via plugins.\n",
    "- **Jupyter Notebook**: an open-source web application that allows users to create and share documents that contain live code, equations, visualizations, and narrative text using Markdown.\n",
    "- **Stack Overflow**: a question and answer community for programmers that allows Markdown formatting in posts.\n",
    "- **Trello**: a web-based project management application that supports Markdown formatting in cards and descriptions.\n",
    "- and many others that support adding content in Markdown"
   ]
  },
  {
   "cell_type": "markdown",
   "id": "8ff0138c",
   "metadata": {
    "slideshow": {
     "slide_type": "slide"
    }
   },
   "source": [
    "## Why are we learning about Markdown?\n",
    "\n",
    "- easy, limited syntax\n",
    "- most text editors support it (even Google Docs!)\n",
    "- allows us to store standalone, nonproprietary documents\n",
    "- translates easily to HTML or to PDF"
   ]
  },
  {
   "cell_type": "markdown",
   "id": "b1bfc350",
   "metadata": {
    "slideshow": {
     "slide_type": "slide"
    }
   },
   "source": [
    "## HTML for web accessibility\n",
    "\n",
    "According to many organizations, if we want the best web accessible digital content, we should present our public documents as HTML."
   ]
  },
  {
   "cell_type": "markdown",
   "id": "d5a02242",
   "metadata": {
    "slideshow": {
     "slide_type": "subslide"
    }
   },
   "source": [
    "> \"HTML is considered the gold standard of accessibility\"\n",
    "(University of Mississippi Digital Accessibility Solutions, https://accessibility.olemiss.edu/home/document-accessibility-for-the-web/)"
   ]
  },
  {
   "cell_type": "markdown",
   "id": "e2d2d3ce",
   "metadata": {
    "slideshow": {
     "slide_type": "subslide"
    }
   },
   "source": [
    "> \"HTML remains the most accessible format for creating content on the web.\" - WebAIM, an accessibility advocacy organization\n"
   ]
  },
  {
   "cell_type": "markdown",
   "id": "a2be17b4",
   "metadata": {
    "slideshow": {
     "slide_type": "subslide"
    }
   },
   "source": [
    "> \"HTML is a superior format for creating accessible content for the web. Other formats, such as PDF, are often problematic because they don't support accessibility features natively.\" - The University of Minnesota's Accessible U website\n"
   ]
  },
  {
   "cell_type": "markdown",
   "id": "97eb15aa",
   "metadata": {
    "slideshow": {
     "slide_type": "subslide"
    }
   },
   "source": [
    "> \"HTML is the basis for the web, and as such is the most universally accessible format.\" - The University of Edinburgh's Website Accessibility Policy\n"
   ]
  },
  {
   "cell_type": "markdown",
   "id": "25be876c",
   "metadata": {
    "slideshow": {
     "slide_type": "subslide"
    }
   },
   "source": [
    "> \"HTML is inherently accessible.\" - W3C, the organization that develops web standards\n"
   ]
  },
  {
   "cell_type": "markdown",
   "id": "4f67f617",
   "metadata": {
    "slideshow": {
     "slide_type": "subslide"
    }
   },
   "source": [
    "> \"HTML is the best format for accessibility because it was designed for the web and is understood by all browsers.\" - The Accessibility Guidelines Working Group of the International Digital Publishing Forum."
   ]
  },
  {
   "cell_type": "markdown",
   "id": "51996484",
   "metadata": {
    "slideshow": {
     "slide_type": "subslide"
    }
   },
   "source": [
    "> \"The default should be to create all content in HTML.\" \n",
    "(Why GOV.UK content should be published in HTML and not PDF (https://gds.blog.gov.uk/2018/07/16/why-gov-uk-content-should-be-published-in-html-and-not-pdf/)"
   ]
  },
  {
   "cell_type": "markdown",
   "id": "be896bc2",
   "metadata": {
    "slideshow": {
     "slide_type": "slide"
    }
   },
   "source": [
    "# Pros & Cons"
   ]
  },
  {
   "cell_type": "markdown",
   "id": "2eca56a6",
   "metadata": {
    "slideshow": {
     "slide_type": "subslide"
    }
   },
   "source": [
    "## Pros of HTML\n",
    "\n",
    "1. viewable and editable in plain text editors\n",
    "\n",
    "2. durable - invented in 1990\n",
    "\n",
    "3. widespread: the standard language for creating and displaying content on the web\n",
    "\n",
    "4. best format for web accessibility\n",
    "\n",
    "5. best format for web discoverability - (easily understood by search engines)\n"
   ]
  },
  {
   "cell_type": "markdown",
   "id": "29fa885a",
   "metadata": {
    "slideshow": {
     "slide_type": "subslide"
    }
   },
   "source": [
    "## Cons of HTML\n",
    "\n",
    "1. images need to be stored separately and referenced\n",
    "\n",
    "2. needs to be interpreted by an application, like a browser, but this is not standardized\n",
    "\n",
    "3. hard to read and write (so many brackets) "
   ]
  },
  {
   "cell_type": "markdown",
   "id": "52668db1",
   "metadata": {
    "slideshow": {
     "slide_type": "fragment"
    }
   },
   "source": [
    "Markdown can solve #3 because it is much easier to read and write it!"
   ]
  },
  {
   "cell_type": "markdown",
   "id": "403a0e61",
   "metadata": {
    "slideshow": {
     "slide_type": "subslide"
    }
   },
   "source": [
    "## Pros of Markdown:\n",
    "\n",
    "Simplicity: Markdown is designed to be easy to read and write, making it a great choice for those who are new to markup languages or don't want to spend a lot of time learning complex syntax.\n"
   ]
  },
  {
   "cell_type": "markdown",
   "id": "4313e7ec",
   "metadata": {
    "slideshow": {
     "slide_type": "subslide"
    }
   },
   "source": [
    "Versatility: Markdown can be easily converted to HTML, PDF, and other formats, making it a versatile choice for writing and formatting content for the web or for print.\n"
   ]
  },
  {
   "cell_type": "markdown",
   "id": "c63ee655",
   "metadata": {
    "slideshow": {
     "slide_type": "subslide"
    }
   },
   "source": [
    "Wide adoption: Markdown is widely used and supported by many platforms and applications, including GitHub, Reddit, Jupyter Notebook, and many others.\n"
   ]
  },
  {
   "cell_type": "markdown",
   "id": "befb0756",
   "metadata": {
    "slideshow": {
     "slide_type": "subslide"
    }
   },
   "source": [
    "Focus on content: Markdown allows you to focus on writing content, rather than formatting. With its simple syntax, you can quickly add structure to your text without having to worry about HTML tags or other complicated code."
   ]
  },
  {
   "cell_type": "markdown",
   "id": "8992d1e3",
   "metadata": {
    "slideshow": {
     "slide_type": "subslide"
    }
   },
   "source": [
    "##  Cons of Markdown:\n",
    "    \n",
    "1. Limited functionality: Markdown is designed to be simple and easy to use, but as a result, it has limited functionality compared to other markup languages such as HTML. For example, it does not have support for some more advanced formatting options, like columns or advanced table formatting.\n",
    "\n",
    "2. Inconsistent syntax: Markdown is not a standardized language, and different implementations may have slightly different syntax. This can lead to confusion and compatibility issues when using Markdown on different platforms."
   ]
  },
  {
   "cell_type": "markdown",
   "id": "58a70e86",
   "metadata": {
    "slideshow": {
     "slide_type": "slide"
    }
   },
   "source": [
    "## Comparing Markdown and HTML syntax"
   ]
  },
  {
   "cell_type": "markdown",
   "id": "109d8160",
   "metadata": {
    "slideshow": {
     "slide_type": "subslide"
    }
   },
   "source": [
    "### Here's an example of a short paragraph in Markdown"
   ]
  },
  {
   "cell_type": "code",
   "execution_count": null,
   "id": "c8ec16d8",
   "metadata": {
    "slideshow": {
     "slide_type": "fragment"
    }
   },
   "outputs": [],
   "source": [
    "# A Short Paragraph\n",
    "\n",
    "This is a short paragraph about the benefits of using Markdown.\n",
    "\n",
    "- It is easy to read and write\n",
    "- It is lightweight\n",
    "- It can be easily converted to HTML\n",
    "\n",
    "[Learn more about Markdown](https://en.wikipedia.org/wiki/Markdown)"
   ]
  },
  {
   "cell_type": "markdown",
   "id": "231025e3",
   "metadata": {
    "slideshow": {
     "slide_type": "fragment"
    }
   },
   "source": [
    "### And here's the equivalent code in HTML:"
   ]
  },
  {
   "cell_type": "code",
   "execution_count": null,
   "id": "da18fcfc",
   "metadata": {
    "slideshow": {
     "slide_type": "fragment"
    }
   },
   "outputs": [],
   "source": [
    "<h1>A Short Paragraph</h1>\n",
    "\n",
    "<p>This is a short paragraph about the benefits of using Markdown.</p>\n",
    "\n",
    "<ul>\n",
    "  <li>It is easy to read and write</li>\n",
    "  <li>It is lightweight</li>\n",
    "  <li>It can be easily converted to HTML</li>\n",
    "</ul>\n",
    "\n",
    "<a href=\"https://en.wikipedia.org/wiki/Markdown\">Learn more about Markdown</a>"
   ]
  },
  {
   "cell_type": "markdown",
   "id": "f611c137",
   "metadata": {
    "slideshow": {
     "slide_type": "subslide"
    }
   },
   "source": [
    "### Here's an example of a table in Markdown:"
   ]
  },
  {
   "cell_type": "code",
   "execution_count": null,
   "id": "ecf1b4e9",
   "metadata": {
    "slideshow": {
     "slide_type": "fragment"
    }
   },
   "outputs": [],
   "source": [
    "| Column 1 | Column 2 | Column 3 |\n",
    "|----------|----------|----------|\n",
    "| Row 1, Column 1 | Row 1, Column 2 | Row 1, Column 3 |\n",
    "| Row 2, Column 1 | Row 2, Column 2 | Row 2, Column 3 |\n",
    "| Row 3, Column 1 | Row 3, Column 2 | Row 3, Column 3 |\n"
   ]
  },
  {
   "cell_type": "markdown",
   "id": "42ebbc01",
   "metadata": {
    "slideshow": {
     "slide_type": "fragment"
    }
   },
   "source": [
    "### And here's the equivalent code in HTML:"
   ]
  },
  {
   "cell_type": "code",
   "execution_count": null,
   "id": "68f6e7a5",
   "metadata": {
    "slideshow": {
     "slide_type": "fragment"
    }
   },
   "outputs": [],
   "source": [
    "<table>\n",
    "  <tr>\n",
    "    <th>Column 1</th>\n",
    "    <th>Column 2</th>\n",
    "    <th>Column 3</th>\n",
    "  </tr>\n",
    "  <tr>\n",
    "    <td>Row 1, Column 1</td>\n",
    "    <td>Row 1, Column 2</td>\n",
    "    <td>Row 1, Column 3</td>\n",
    "  </tr>\n",
    "  <tr>\n",
    "    <td>Row 2, Column 1</td>\n",
    "    <td>Row 2, Column 2</td>\n",
    "    <td>Row 2, Column 3</td>\n",
    "  </tr>\n",
    "  <tr>\n",
    "    <td>Row 3, Column 1</td>\n",
    "    <td>Row 3, Column 2</td>\n",
    "    <td>Row 3, Column 3</td>\n",
    "  </tr>\n",
    "</table>"
   ]
  },
  {
   "cell_type": "markdown",
   "id": "6cb0b180",
   "metadata": {
    "slideshow": {
     "slide_type": "slide"
    }
   },
   "source": [
    "## Flavors of Markdown\n",
    "\n",
    "There are several different \"flavors\" or variations of Markdown that have been developed over the years, each with its own unique features and syntax. Some of the most popular Markdown flavors include:\n",
    "\n",
    "- **Standard Markdown** (also known as \"Original Markdown\" or \"Classic Markdown\"): This is the original version of Markdown, created by John Gruber in 2004. It is a simple markup language that focuses on text formatting and includes features like headers, lists, links, and emphasis.\n",
    "\n",
    "- **GitHub Flavored Markdown**: This is a variation of Markdown that is used by GitHub for formatting readme files and other content. It includes all of the features of Standard Markdown, plus additional syntax for tables, task lists, and other advanced formatting options.\n",
    "\n",
    "- **CommonMark**: This is a more strict and standardized version of Markdown that was developed to address some of the inconsistencies and ambiguities in the original Standard Markdown syntax. CommonMark is designed to be a more interoperable and portable version of Markdown that can be used across a wider range of platforms and applications.\n",
    "\n",
    "- **MultiMarkdown**: This is a more feature-rich version of Markdown that includes support for tables, footnotes, citations, and other advanced formatting options. MultiMarkdown is often used for academic and scientific writing, as well as for creating complex documents.\n",
    "\n",
    "- **Kramdown**: This is a fast, flexible, and versatile version of Markdown that is designed to be compatible with both Standard Markdown and GitHub Flavored Markdown. Kramdown is widely used for formatting content for websites, blogs, and other types of online content.\n",
    "\n",
    "- and  many others, but don't worry - many platforms understand all of these flavors."
   ]
  },
  {
   "cell_type": "markdown",
   "id": "11b1ad3a",
   "metadata": {
    "slideshow": {
     "slide_type": "slide"
    }
   },
   "source": [
    "## Preservation Considerations\n",
    "\n",
    "\n",
    "- Library of Congress recommends PDF/A (PDF with metadata) or XML for long term preservation\n",
    "\n",
    "- However, there is debate in the digital archiving community\n",
    "\n",
    "- PDF/A combines all content together\n",
    "\n",
    "- It is also easy to convert Markdown files to PDF"
   ]
  }
 ],
 "metadata": {
  "celltoolbar": "Slideshow",
  "kernelspec": {
   "display_name": "Python 3 (ipykernel)",
   "language": "python",
   "name": "python3"
  },
  "language_info": {
   "codemirror_mode": {
    "name": "ipython",
    "version": 3
   },
   "file_extension": ".py",
   "mimetype": "text/x-python",
   "name": "python",
   "nbconvert_exporter": "python",
   "pygments_lexer": "ipython3",
   "version": "3.9.15"
  }
 },
 "nbformat": 4,
 "nbformat_minor": 5
}
