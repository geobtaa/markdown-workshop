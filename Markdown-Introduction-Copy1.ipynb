{
 "cells": [
  {
   "cell_type": "markdown",
   "id": "45faccd1",
   "metadata": {
    "slideshow": {
     "slide_type": "slide"
    }
   },
   "source": [
    "# Intro to Markdown for the BTAA-GIN"
   ]
  },
  {
   "cell_type": "markdown",
   "id": "3cebb93d",
   "metadata": {
    "slideshow": {
     "slide_type": "slide"
    }
   },
   "source": [
    "# Part 1: Overview of Markdown"
   ]
  },
  {
   "cell_type": "markdown",
   "id": "3fa29d55",
   "metadata": {
    "slideshow": {
     "slide_type": "subslide"
    }
   },
   "source": [
    "## What?\n",
    "\n",
    "- Markdown is a lightweight language for writing text documents"
   ]
  },
  {
   "cell_type": "markdown",
   "id": "c7020f5e",
   "metadata": {
    "slideshow": {
     "slide_type": "subslide"
    }
   },
   "source": [
    "## Why?\n",
    "\n",
    "- allows us to create and store standalone, non-proprietary documents\n",
    "- very simple to learn and most text editors support it\n",
    "- many tools can transform Markdown to other formats, such as **HTML** or **PDF**"
   ]
  },
  {
   "cell_type": "markdown",
   "id": "2c7d4fd6",
   "metadata": {
    "slideshow": {
     "slide_type": "subslide"
    }
   },
   "source": [
    "## Where? \n",
    "\n",
    "- GitHub\n",
    "- Jupyter Notebook\n",
    "- Reddit\n",
    "- Slack\n",
    "- WordPress\n",
    "- Stack Overflow\n",
    "- Trello\n",
    "- and many others that support adding content in Markdown"
   ]
  },
  {
   "cell_type": "markdown",
   "id": "f55e9ca3",
   "metadata": {
    "slideshow": {
     "slide_type": "subslide"
    }
   },
   "source": [
    "## BTAA-GIN\n",
    "\n",
    "- Markdown is used to create pages for the [gin.btaa.org](https://gin.btaa.org) website\n",
    "- Docs on the GIN website start off as **Markdown** and are converted to **HTML** upon publishing."
   ]
  },
  {
   "cell_type": "markdown",
   "id": "99437777",
   "metadata": {
    "slideshow": {
     "slide_type": "subslide"
    }
   },
   "source": [
    "If your committee or workgroup produces a public report, we would like to add it to the GIN website. \n",
    "\n",
    "If possible, please submit these as Markdown documents."
   ]
  },
  {
   "cell_type": "markdown",
   "id": "028c52ee",
   "metadata": {
    "slideshow": {
     "slide_type": "subslide"
    }
   },
   "source": [
    "**With Markdown, we can focus on writing, rather than formatting.**"
   ]
  },
  {
   "cell_type": "markdown",
   "id": "e5cc220a",
   "metadata": {
    "slideshow": {
     "slide_type": "slide"
    }
   },
   "source": [
    "# Part 2: Let's Learn Markdown!"
   ]
  },
  {
   "cell_type": "markdown",
   "id": "e9fb069b",
   "metadata": {
    "slideshow": {
     "slide_type": "subslide"
    }
   },
   "source": [
    "## What's in a Markdown file?\n",
    "\n",
    "- text styles\n",
    "- lists\n",
    "- paragraph styles\n",
    "- tables\n",
    "- code\n",
    "- links & images "
   ]
  },
  {
   "cell_type": "markdown",
   "id": "81810bb6",
   "metadata": {
    "slideshow": {
     "slide_type": "subslide"
    }
   },
   "source": [
    "## Text Styles"
   ]
  },
  {
   "cell_type": "code",
   "execution_count": null,
   "id": "6cfacd4f",
   "metadata": {
    "slideshow": {
     "slide_type": "subslide"
    }
   },
   "outputs": [],
   "source": [
    "# Heading 1"
   ]
  },
  {
   "cell_type": "markdown",
   "id": "5ac703f2",
   "metadata": {
    "slideshow": {
     "slide_type": "fragment"
    }
   },
   "source": [
    "# Heading 1"
   ]
  },
  {
   "cell_type": "code",
   "execution_count": null,
   "id": "eb53ab3e",
   "metadata": {
    "slideshow": {
     "slide_type": "subslide"
    }
   },
   "outputs": [],
   "source": [
    "## Heading 2"
   ]
  },
  {
   "cell_type": "markdown",
   "id": "74dc09d8",
   "metadata": {
    "slideshow": {
     "slide_type": "fragment"
    }
   },
   "source": [
    "## Heading 2"
   ]
  },
  {
   "cell_type": "code",
   "execution_count": null,
   "id": "9160c790",
   "metadata": {
    "slideshow": {
     "slide_type": "subslide"
    }
   },
   "outputs": [],
   "source": [
    "### Heading 3"
   ]
  },
  {
   "cell_type": "markdown",
   "id": "d4735409",
   "metadata": {
    "slideshow": {
     "slide_type": "fragment"
    }
   },
   "source": [
    "### Heading 3"
   ]
  },
  {
   "cell_type": "code",
   "execution_count": null,
   "id": "0a7e6595",
   "metadata": {
    "slideshow": {
     "slide_type": "subslide"
    }
   },
   "outputs": [],
   "source": [
    "*italics*"
   ]
  },
  {
   "cell_type": "markdown",
   "id": "c7938b26",
   "metadata": {
    "slideshow": {
     "slide_type": "fragment"
    }
   },
   "source": [
    "*italics*"
   ]
  },
  {
   "cell_type": "code",
   "execution_count": null,
   "id": "f00d4f6a",
   "metadata": {
    "slideshow": {
     "slide_type": "subslide"
    }
   },
   "outputs": [],
   "source": [
    "**bold**"
   ]
  },
  {
   "cell_type": "markdown",
   "id": "48917a57",
   "metadata": {
    "slideshow": {
     "slide_type": "fragment"
    }
   },
   "source": [
    "**bold**"
   ]
  },
  {
   "cell_type": "markdown",
   "id": "d5b8f4c0",
   "metadata": {
    "slideshow": {
     "slide_type": "subslide"
    }
   },
   "source": [
    "## Lists"
   ]
  },
  {
   "cell_type": "code",
   "execution_count": null,
   "id": "dad371b1",
   "metadata": {
    "slideshow": {
     "slide_type": "subslide"
    }
   },
   "outputs": [],
   "source": [
    "- unordered list\n",
    "- unordered list\n",
    "- unordered list"
   ]
  },
  {
   "cell_type": "markdown",
   "id": "15ac95bb",
   "metadata": {
    "slideshow": {
     "slide_type": "fragment"
    }
   },
   "source": [
    "- unordered list\n",
    "- unordered list\n",
    "- unordered list\n"
   ]
  },
  {
   "cell_type": "code",
   "execution_count": null,
   "id": "7d166e4c",
   "metadata": {
    "slideshow": {
     "slide_type": "subslide"
    }
   },
   "outputs": [],
   "source": [
    "1. ordered list\n",
    "1. ordered list\n",
    "1. ordered list"
   ]
  },
  {
   "cell_type": "markdown",
   "id": "40d4a079",
   "metadata": {
    "slideshow": {
     "slide_type": "fragment"
    }
   },
   "source": [
    "```\n",
    "1. ordered list\n",
    "2. ordered list\n",
    "3. ordered list\n",
    "```"
   ]
  },
  {
   "cell_type": "markdown",
   "id": "53244eb7",
   "metadata": {
    "slideshow": {
     "slide_type": "subslide"
    }
   },
   "source": [
    "## Paragraph styles"
   ]
  },
  {
   "cell_type": "markdown",
   "id": "ec0bf9b9",
   "metadata": {
    "slideshow": {
     "slide_type": "subslide"
    }
   },
   "source": [
    "Markdown will not automatically produce line breaks."
   ]
  },
  {
   "cell_type": "code",
   "execution_count": null,
   "id": "3ea06980",
   "metadata": {
    "slideshow": {
     "slide_type": "subslide"
    }
   },
   "outputs": [],
   "source": [
    "This will produce one line,<return>\n",
    "\n",
    "even if you hit return in the middle."
   ]
  },
  {
   "cell_type": "markdown",
   "id": "84cf4371",
   "metadata": {
    "slideshow": {
     "slide_type": "fragment"
    }
   },
   "source": [
    "This will produce one line, even if you hit return in the middle."
   ]
  },
  {
   "cell_type": "code",
   "execution_count": null,
   "id": "d991c52f",
   "metadata": {
    "slideshow": {
     "slide_type": "fragment"
    }
   },
   "outputs": [],
   "source": [
    "For line breaks,<space><space>\n",
    "\n",
    "add two spaces at the end of a line.  "
   ]
  },
  {
   "cell_type": "markdown",
   "id": "b160a229",
   "metadata": {
    "slideshow": {
     "slide_type": "fragment"
    }
   },
   "source": [
    "For line breaks,  \n",
    "add two spaces at the end of a line.  "
   ]
  },
  {
   "cell_type": "code",
   "execution_count": null,
   "id": "8f29de01",
   "metadata": {
    "slideshow": {
     "slide_type": "subslide"
    }
   },
   "outputs": [],
   "source": [
    "> Blockquote"
   ]
  },
  {
   "cell_type": "markdown",
   "id": "1e823ba0",
   "metadata": {
    "slideshow": {
     "slide_type": "fragment"
    }
   },
   "source": [
    "> Blockquote"
   ]
  },
  {
   "cell_type": "code",
   "execution_count": null,
   "id": "fad5aee3",
   "metadata": {
    "slideshow": {
     "slide_type": "subslide"
    }
   },
   "outputs": [],
   "source": [
    "--- \n",
    "horizontal rule"
   ]
  },
  {
   "cell_type": "markdown",
   "id": "b97feaf3",
   "metadata": {
    "slideshow": {
     "slide_type": "fragment"
    }
   },
   "source": [
    "--- \n",
    "horizontal rule"
   ]
  },
  {
   "cell_type": "markdown",
   "id": "e2426d10",
   "metadata": {
    "slideshow": {
     "slide_type": "subslide"
    }
   },
   "source": [
    "## Tables"
   ]
  },
  {
   "cell_type": "code",
   "execution_count": null,
   "id": "f5145a85",
   "metadata": {
    "slideshow": {
     "slide_type": "subslide"
    }
   },
   "outputs": [],
   "source": [
    "| Column 1 | Column 2 | Column 3 |\n",
    "|----------|----------|----------|\n",
    "| Row 1, Column 1 | Row 1, Column 2 | Row 1, Column 3 |\n",
    "| Row 2, Column 1 | Row 2, Column 2 | Row 2, Column 3 |\n",
    "| Row 3, Column 1 | Row 3, Column 2 | Row 3, Column 3 |"
   ]
  },
  {
   "cell_type": "markdown",
   "id": "cbaa094e",
   "metadata": {
    "slideshow": {
     "slide_type": "fragment"
    }
   },
   "source": [
    "\n",
    "| Column 1 | Column 2 | Column 3 |\n",
    "|----------|----------|----------|\n",
    "| Row 1, Column 1 | Row 1, Column 2 | Row 1, Column 3 |\n",
    "| Row 2, Column 1 | Row 2, Column 2 | Row 2, Column 3 |\n",
    "| Row 3, Column 1 | Row 3, Column 2 | Row 3, Column 3 |\n"
   ]
  },
  {
   "cell_type": "markdown",
   "id": "f940d69f",
   "metadata": {
    "slideshow": {
     "slide_type": "subslide"
    }
   },
   "source": [
    "## Code"
   ]
  },
  {
   "cell_type": "code",
   "execution_count": null,
   "id": "2c562877",
   "metadata": {
    "slideshow": {
     "slide_type": "subslide"
    }
   },
   "outputs": [],
   "source": [
    "`Inline code`"
   ]
  },
  {
   "cell_type": "markdown",
   "id": "f549d5ed",
   "metadata": {
    "slideshow": {
     "slide_type": "fragment"
    }
   },
   "source": [
    "``Inline code``"
   ]
  },
  {
   "cell_type": "code",
   "execution_count": null,
   "id": "047d9b4e",
   "metadata": {
    "slideshow": {
     "slide_type": "subslide"
    }
   },
   "outputs": [],
   "source": [
    "```\n",
    "code block\n",
    "```"
   ]
  },
  {
   "cell_type": "markdown",
   "id": "c3ec5fad",
   "metadata": {
    "slideshow": {
     "slide_type": "fragment"
    }
   },
   "source": [
    "```\n",
    "code block\n",
    "```"
   ]
  },
  {
   "cell_type": "markdown",
   "id": "cb26e23f",
   "metadata": {
    "slideshow": {
     "slide_type": "subslide"
    }
   },
   "source": [
    "## Links & Images"
   ]
  },
  {
   "cell_type": "code",
   "execution_count": null,
   "id": "64d77781",
   "metadata": {
    "slideshow": {
     "slide_type": "subslide"
    }
   },
   "outputs": [],
   "source": [
    "[Link](http://geo.btaa.org)"
   ]
  },
  {
   "cell_type": "markdown",
   "id": "3c9c8b4a",
   "metadata": {
    "slideshow": {
     "slide_type": "fragment"
    }
   },
   "source": [
    "[Link](http://geo.btaa.org)"
   ]
  },
  {
   "cell_type": "code",
   "execution_count": null,
   "id": "6191e45f",
   "metadata": {
    "slideshow": {
     "slide_type": "subslide"
    }
   },
   "outputs": [],
   "source": [
    "![Image](https://images.digital.library.illinois.edu/iiif/2/910a3e90-82d6-0134-1f08-0050569601ca-6/full/175,/0/default.jpg?download=true)"
   ]
  },
  {
   "cell_type": "markdown",
   "id": "9b725c00",
   "metadata": {
    "slideshow": {
     "slide_type": "fragment"
    }
   },
   "source": [
    "![Image](https://images.digital.library.illinois.edu/iiif/2/910a3e90-82d6-0134-1f08-0050569601ca-6/full/175,/0/default.jpg?download=true)"
   ]
  },
  {
   "cell_type": "markdown",
   "id": "569fceba",
   "metadata": {
    "slideshow": {
     "slide_type": "subslide"
    }
   },
   "source": [
    "### That's pretty much everything - all the syntax you need to create tutorials, guides, and reports.\n",
    "\n",
    "Let's try this interactive tutorial next: [https://commonmark.org/help/tutorial/](https://commonmark.org/help/tutorial/)"
   ]
  },
  {
   "cell_type": "markdown",
   "id": "60f18769",
   "metadata": {
    "slideshow": {
     "slide_type": "slide"
    }
   },
   "source": [
    "# Part 3: F.A.Q."
   ]
  },
  {
   "cell_type": "markdown",
   "id": "cbcdfd80",
   "metadata": {
    "slideshow": {
     "slide_type": "subslide"
    }
   },
   "source": [
    "## Why do some sites say to use \"-\" for bulleted lists while others say to use \"* \"?"
   ]
  },
  {
   "cell_type": "markdown",
   "id": "8fda625f",
   "metadata": {
    "slideshow": {
     "slide_type": "fragment"
    }
   },
   "source": [
    "You will likely come across various Markdown documentation sites that seem to have conflicting information on syntax. This is because there are several different \"flavors\" or variations of Markdown that have been developed over the years, each with its own unique features and syntax. However, most platforms seem to accept any version and interpret \"-\" the same as \"* \""
   ]
  },
  {
   "cell_type": "markdown",
   "id": "dae84f3b",
   "metadata": {
    "slideshow": {
     "slide_type": "subslide"
    }
   },
   "source": [
    "## Can I embed images right into the Markdown file or do I always need to have them stored separately?"
   ]
  },
  {
   "cell_type": "markdown",
   "id": "a447ed33",
   "metadata": {
    "slideshow": {
     "slide_type": "fragment"
    }
   },
   "source": [
    "Images need to be hosted online, usually in a folder next to the Markdown document. This may take more time that just pasting an image right into a document, such as Google Slides. On the other hand, this may ultimately make a document easier to update and maintain - if we overwrite a new image in a directly using the same, we do not need to edit the Markdown file."
   ]
  },
  {
   "cell_type": "markdown",
   "id": "44677ed9",
   "metadata": {
    "slideshow": {
     "slide_type": "subslide"
    }
   },
   "source": [
    "## Markdown doesn't include certain features found in HTML. For example, how can I format images?"
   ]
  },
  {
   "cell_type": "markdown",
   "id": "5b3333e0",
   "metadata": {
    "slideshow": {
     "slide_type": "fragment"
    }
   },
   "source": [
    "You can always add straight HTML code in your Markdown file and include style elements, such as `float`, `border`, or `margin`."
   ]
  },
  {
   "cell_type": "markdown",
   "id": "13fa0053",
   "metadata": {
    "slideshow": {
     "slide_type": "subslide"
    }
   },
   "source": [
    "## How do I submit Markdown content to the gin.btaa.org website?"
   ]
  },
  {
   "cell_type": "markdown",
   "id": "9a4739f5",
   "metadata": {
    "slideshow": {
     "slide_type": "fragment"
    }
   },
   "source": [
    "- Markdown can be used for workgroup reports and other documents you would like to be publicly available.\n",
    "- To edit the site yourself, review the instructions here: *[https://github.com/geobtaa/geobtaa.github.io?tab=readme-ov-file#updating-the--website](https://github.com/geobtaa/geobtaa.github.io?tab=readme-ov-file#updating-the--website)*\n",
    "- Otherwise, just email or Slack a markdown file to me"
   ]
  },
  {
   "cell_type": "markdown",
   "id": "d8a57232",
   "metadata": {
    "slideshow": {
     "slide_type": "slide"
    }
   },
   "source": [
    "# Thank you!"
   ]
  },
  {
   "cell_type": "markdown",
   "id": "6a17bf7c",
   "metadata": {},
   "source": [
    "Questions?"
   ]
  }
 ],
 "metadata": {
  "celltoolbar": "Slideshow",
  "kernelspec": {
   "display_name": "Python 3 (ipykernel)",
   "language": "python",
   "name": "python3"
  },
  "language_info": {
   "codemirror_mode": {
    "name": "ipython",
    "version": 3
   },
   "file_extension": ".py",
   "mimetype": "text/x-python",
   "name": "python",
   "nbconvert_exporter": "python",
   "pygments_lexer": "ipython3",
   "version": "3.10.12"
  }
 },
 "nbformat": 4,
 "nbformat_minor": 5
}
